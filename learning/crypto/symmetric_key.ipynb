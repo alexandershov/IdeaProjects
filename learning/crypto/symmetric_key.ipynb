{
 "cells": [
  {
   "metadata": {},
   "cell_type": "markdown",
   "source": [
    "## Symmetric key cryptography\n",
    "\n",
    "Symmetric key cryptography uses the same key for encryption and decryption.\n",
    "\n",
    "AES (a variant of Rijndael algorithm) is a popular algorithm for doing symmetric key cryptography.\n",
    "\n",
    "Python \n",
    "\n",
    "```shell\n",
    "pip install cryptography\n",
    "```   "
   ],
   "id": "60d106b92b405acc"
  },
  {
   "metadata": {
    "ExecuteTime": {
     "end_time": "2024-08-29T20:34:38.362647Z",
     "start_time": "2024-08-29T20:34:38.360809Z"
    }
   },
   "cell_type": "code",
   "source": "from cryptography.hazmat.primitives.ciphers import Cipher, algorithms, modes",
   "id": "385fa62be225f7f1",
   "outputs": [],
   "execution_count": 2
  },
  {
   "metadata": {
    "ExecuteTime": {
     "end_time": "2024-08-29T20:40:25.865661Z",
     "start_time": "2024-08-29T20:40:25.863089Z"
    }
   },
   "cell_type": "code",
   "source": [
    "# 32 byte key\n",
    "key = b'key ' * 8\n",
    "# 16 byte iv\n",
    "iv = b'myiv' * 4\n",
    "cipher = Cipher(algorithms.AES(key), modes.CBC(iv))\n",
    "encryptor = cipher.encryptor()\n",
    "# message to encrypt length should be multiple of 16. Example is exactly 16 bytes long.\n",
    "encrypted = encryptor.update(b\"encrypt this bye\") + encryptor.finalize()\n",
    "decryptor = cipher.decryptor()\n",
    "decrypted = decryptor.update(encrypted) + decryptor.finalize()\n",
    "print(decrypted)"
   ],
   "id": "b085e782413f3711",
   "outputs": [
    {
     "name": "stdout",
     "output_type": "stream",
     "text": [
      "b'encrypt this Buy'\n"
     ]
    }
   ],
   "execution_count": 9
  },
  {
   "metadata": {},
   "cell_type": "markdown",
   "source": [
    "AES encryption is essentially a function where domain and codomain are 16 byte chunks.\n",
    "We can consider it a 1-1 mapping from 16 bytes to another 16 bytes. There are bunch of such mappings.\n",
    "Symmetric key picks one of these mappings.\n",
    "\n",
    "Length of encrypted text is the same as the length of the original text."
   ],
   "id": "68fa01d1c9c962cb"
  },
  {
   "metadata": {
    "ExecuteTime": {
     "end_time": "2024-08-30T20:23:39.168096Z",
     "start_time": "2024-08-30T20:23:39.165592Z"
    }
   },
   "cell_type": "code",
   "source": "len(encrypted)",
   "id": "debe567d9b05dfac",
   "outputs": [
    {
     "data": {
      "text/plain": [
       "16"
      ]
     },
     "execution_count": 11,
     "metadata": {},
     "output_type": "execute_result"
    }
   ],
   "execution_count": 11
  },
  {
   "metadata": {},
   "cell_type": "markdown",
   "source": [
    "If we do a naive approach of encrypting: just taking some key and encrypting with it each 16 byte chunk, then we'll have some problems:\n",
    "*  Same chunks of 16-bytes will always result in the same result. Attacker can guess some stuff from that.\n",
    "   This can be fixed by using IV (initialization vector): encrypting side generates some random byte sequence. This random sequence is used an initial state of the algorithm. Encrypting side can prepend IV to the encrypted text and decrypting side needs to be aware of that to get IV for decryption.\n",
    "* Even if we're using IV for each 16-byte chunk, then we still can have some problems. Consider image. Each 16-byte chunk of an image will be encrypted to the same result even with initial IV. If you have a bunch of same 16-byte chunks, they will just change color. So you can see some patterns in an image. This can be fixed by using cipher block chaining (CBC), with CBC before encryption each 16-byte chunk is XOR-ed with the previous 16-byte encrypted text. Now each 16-byte chunk depends on all the previous bytes. So there'll be no patterns. Since XOR is reversible if you know XOR result and one of the XOR arguments it all works out. "
   ],
   "id": "3e60433508045caa"
  }
 ],
 "metadata": {
  "kernelspec": {
   "display_name": "Python 3",
   "language": "python",
   "name": "python3"
  },
  "language_info": {
   "codemirror_mode": {
    "name": "ipython",
    "version": 2
   },
   "file_extension": ".py",
   "mimetype": "text/x-python",
   "name": "python",
   "nbconvert_exporter": "python",
   "pygments_lexer": "ipython2",
   "version": "2.7.6"
  }
 },
 "nbformat": 4,
 "nbformat_minor": 5
}
