{
 "cells": [
  {
   "metadata": {},
   "cell_type": "markdown",
   "source": [
    "## Symmetric key cryptography\n",
    "\n",
    "Symmetric key cryptography uses the same key for encryption and decryption.\n",
    "\n",
    "AES (a variant of Rijndael algorithm) is a popular algorithm for doing symmetric key cryptography.\n",
    "\n",
    "Python \n",
    "\n",
    "```shell\n",
    "pip install cryptography\n",
    "```   "
   ],
   "id": "60d106b92b405acc"
  },
  {
   "metadata": {
    "ExecuteTime": {
     "end_time": "2024-08-29T20:34:38.362647Z",
     "start_time": "2024-08-29T20:34:38.360809Z"
    }
   },
   "cell_type": "code",
   "source": "from cryptography.hazmat.primitives.ciphers import Cipher, algorithms, modes",
   "id": "385fa62be225f7f1",
   "outputs": [],
   "execution_count": 2
  },
  {
   "metadata": {
    "ExecuteTime": {
     "end_time": "2024-08-29T20:40:25.865661Z",
     "start_time": "2024-08-29T20:40:25.863089Z"
    }
   },
   "cell_type": "code",
   "source": [
    "# 32 byte key\n",
    "key = b'key ' * 8\n",
    "# 16 byte iv\n",
    "iv = b'myiv' * 4\n",
    "cipher = Cipher(algorithms.AES(key), modes.CBC(iv))\n",
    "encryptor = cipher.encryptor()\n",
    "# message to encrypt length should be multiple of 16. Example is exactly 16.\n",
    "encrypted = encryptor.update(b\"encrypt this Buy\") + encryptor.finalize()\n",
    "decryptor = cipher.decryptor()\n",
    "decrypted = decryptor.update(encrypted) + decryptor.finalize()\n",
    "print(decrypted)"
   ],
   "id": "b085e782413f3711",
   "outputs": [
    {
     "name": "stdout",
     "output_type": "stream",
     "text": [
      "b'encrypt this Buy'\n"
     ]
    }
   ],
   "execution_count": 9
  },
  {
   "metadata": {},
   "cell_type": "code",
   "outputs": [],
   "execution_count": null,
   "source": "",
   "id": "debe567d9b05dfac"
  }
 ],
 "metadata": {
  "kernelspec": {
   "display_name": "Python 3",
   "language": "python",
   "name": "python3"
  },
  "language_info": {
   "codemirror_mode": {
    "name": "ipython",
    "version": 2
   },
   "file_extension": ".py",
   "mimetype": "text/x-python",
   "name": "python",
   "nbconvert_exporter": "python",
   "pygments_lexer": "ipython2",
   "version": "2.7.6"
  }
 },
 "nbformat": 4,
 "nbformat_minor": 5
}
