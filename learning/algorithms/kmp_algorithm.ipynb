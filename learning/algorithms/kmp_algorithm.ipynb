{
 "cells": [
  {
   "metadata": {},
   "cell_type": "markdown",
   "source": "## KMP substring search",
   "id": "8e317db3f3af45b1"
  },
  {
   "metadata": {},
   "cell_type": "markdown",
   "source": [
    "KMP (Knuth-Morris-Pratt) is a substring search algorithm.\n",
    "It works in linear time.\n",
    "It preprocesses pattern, so when we mismatch, we can use information of what matched earlier to jump to the next possible positions in the text/pattern.\n",
    "\n",
    "We have a state consisting of\n",
    "* m: index at text where we started a match\n",
    "* i: index at pattern \n",
    "* \n",
    "We're building a prefix function Pf for a pattern.\n",
    "\n",
    "Pf is essentially an array of len(pattern).\n",
    "Pf[i] = k means that pattern[0:k] == pattern[i - k + 1:i] and for every m > k\n",
    "pattern[0:m] != pattern[i - k + 1:i].\n",
    "Also k != i.\n",
    "Essentially k is a biggest length of a suffix of a pattern[:i] that's also a prefix of pattern\n",
    "\n",
    "We can use prefix function to implement KMP:\n",
    "* If we have a mismatch, then we look at Pf[i - 1] to figure out changes of m and i"
   ],
   "id": "9f436489dc1bac76"
  },
  {
   "metadata": {},
   "cell_type": "markdown",
   "source": "Naive approach to build prefix function is this:",
   "id": "42541286fe1046db"
  },
  {
   "metadata": {
    "ExecuteTime": {
     "end_time": "2024-08-24T16:35:12.415757Z",
     "start_time": "2024-08-24T16:35:12.413148Z"
    }
   },
   "cell_type": "code",
   "source": [
    "def naive_build_prefix_function(pattern):\n",
    "    pf = []\n",
    "    for i in range(len(pattern)):\n",
    "        for suffix_len in reversed(range(i + 1)):\n",
    "            if pattern[:suffix_len] == pattern[i - suffix_len + 1:i + 1]:\n",
    "                pf.append(suffix_len)\n",
    "                break\n",
    "    return pf"
   ],
   "id": "3f75ca612145e9a5",
   "outputs": [],
   "execution_count": 9
  },
  {
   "metadata": {
    "ExecuteTime": {
     "end_time": "2024-08-24T16:35:12.801778Z",
     "start_time": "2024-08-24T16:35:12.798693Z"
    }
   },
   "cell_type": "code",
   "source": [
    "print(naive_build_prefix_function('abcabcd'))\n",
    "print(naive_build_prefix_function('aabaaab'))"
   ],
   "id": "91d28b8660fecd1f",
   "outputs": [
    {
     "name": "stdout",
     "output_type": "stream",
     "text": [
      "[0, 0, 0, 1, 2, 3, 0]\n",
      "[0, 1, 0, 1, 2, 2, 3]\n"
     ]
    }
   ],
   "execution_count": 10
  },
  {
   "metadata": {},
   "cell_type": "markdown",
   "source": "This naive way if O(len(pattern)^3). That's not good.",
   "id": "80634edb0e89395"
  },
  {
   "metadata": {},
   "cell_type": "markdown",
   "source": "We can still use naive function to do do matching:",
   "id": "c16b95b29c512b18"
  },
  {
   "metadata": {
    "ExecuteTime": {
     "end_time": "2024-08-25T09:07:19.868433Z",
     "start_time": "2024-08-25T09:07:19.864892Z"
    }
   },
   "cell_type": "code",
   "source": [
    "def kmp_search(pattern, text):\n",
    "    pf = naive_build_prefix_function(pattern)\n",
    "    m = 0\n",
    "    i = 0\n",
    "    while m + i < len(text):\n",
    "        if text[m + i] == pattern[i]:\n",
    "            i += 1\n",
    "            if i == len(pattern):\n",
    "                return m\n",
    "        else:\n",
    "            if i == 0:\n",
    "                # TODO: to do it in a single if?\n",
    "                m += 1\n",
    "            else:\n",
    "                suffix_len = pf[i - 1]\n",
    "                m += i - suffix_len\n",
    "                i = suffix_len\n",
    "    return -1"
   ],
   "id": "d1a9c9215e1f63ac",
   "outputs": [],
   "execution_count": 17
  },
  {
   "metadata": {},
   "cell_type": "code",
   "outputs": [],
   "execution_count": null,
   "source": "",
   "id": "482192d3751250fb"
  },
  {
   "metadata": {
    "ExecuteTime": {
     "end_time": "2024-08-25T09:07:21.719277Z",
     "start_time": "2024-08-25T09:07:21.716462Z"
    }
   },
   "cell_type": "code",
   "source": [
    "assert kmp_search('abcabcd', 'abcabckabcabcd') == 7\n",
    "assert kmp_search('abcabcd', 'abcabckabcabcf') == -1"
   ],
   "id": "a8d854e39a60317b",
   "outputs": [],
   "execution_count": 18
  },
  {
   "metadata": {},
   "cell_type": "code",
   "outputs": [],
   "execution_count": null,
   "source": "",
   "id": "3183c1398cce40b4"
  }
 ],
 "metadata": {
  "kernelspec": {
   "display_name": "Python 3",
   "language": "python",
   "name": "python3"
  },
  "language_info": {
   "codemirror_mode": {
    "name": "ipython",
    "version": 2
   },
   "file_extension": ".py",
   "mimetype": "text/x-python",
   "name": "python",
   "nbconvert_exporter": "python",
   "pygments_lexer": "ipython2",
   "version": "2.7.6"
  }
 },
 "nbformat": 4,
 "nbformat_minor": 5
}
