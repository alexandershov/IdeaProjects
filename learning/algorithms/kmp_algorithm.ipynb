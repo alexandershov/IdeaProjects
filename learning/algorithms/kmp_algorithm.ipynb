{
 "cells": [
  {
   "metadata": {},
   "cell_type": "markdown",
   "source": "## KMP substring search",
   "id": "8e317db3f3af45b1"
  },
  {
   "metadata": {},
   "cell_type": "markdown",
   "source": [
    "KMP (Knuth-Morris-Pratt) is a substring search algorithm.\n",
    "It works in linear time.\n",
    "It preprocesses pattern, so when we mismatch, we can use information of what matched earlier to jump to the next possible positions in the text/pattern.\n",
    "\n",
    "We have a state consisting of\n",
    "* m: index at text where we started a matfh\n",
    "* i: index at pattern \n",
    "* \n",
    "We're building a table T, that tells us to reassign m = m + i - T[i], and making i = T[i]"
   ],
   "id": "9f436489dc1bac76"
  },
  {
   "metadata": {
    "ExecuteTime": {
     "end_time": "2024-07-31T21:26:04.766261Z",
     "start_time": "2024-07-31T21:26:04.760200Z"
    }
   },
   "cell_type": "code",
   "source": [
    "from dataclasses import dataclass\n",
    "\n",
    "\n",
    "@dataclass(frozen=True)\n",
    "class Jump:\n",
    "    text_delta: int\n",
    "    pattern_index: int\n",
    "\n",
    "\n",
    "def kmp_search(text, pattern):\n",
    "    jumps = build_jumps(pattern)\n",
    "    print(jumps)\n",
    "    t = 0\n",
    "    p = 0\n",
    "    while t + p < len(text):\n",
    "        if text[t + p] == pattern[p]:\n",
    "            p += 1\n",
    "            if p == len(pattern):\n",
    "                return t\n",
    "        else:\n",
    "            jump = jumps[p]\n",
    "            p = jump.pattern_index\n",
    "            t += jump.text_delta\n",
    "    return -1\n",
    "\n",
    "\n",
    "def build_jumps(pattern: str) -> list[Jump]:\n",
    "    if not pattern:\n",
    "        return []\n",
    "\n",
    "    jumps = [None] * len(pattern)\n",
    "    jumps[0] = Jump(text_delta=1, pattern_index=0)\n",
    "    for i in range(1, len(pattern)):\n",
    "        prev = jumps[i - 1]\n",
    "        if pattern[i - 1] == pattern[prev.pattern_index]:\n",
    "            # extending previous\n",
    "            jumps[i] = Jump(text_delta=prev.text_delta, pattern_index=prev.pattern_index + 1)\n",
    "        else:\n",
    "            rec = jumps[prev.pattern_index]\n",
    "            delta = rec.text_delta + prev.text_delta\n",
    "            cur = Jump(text_delta=delta, pattern_index=i - delta)\n",
    "            jumps[i] = cur\n",
    "\n",
    "    return jumps"
   ],
   "id": "809133a2e01dcb1e",
   "outputs": [],
   "execution_count": 62
  },
  {
   "metadata": {
    "ExecuteTime": {
     "end_time": "2024-07-31T21:26:05.336361Z",
     "start_time": "2024-07-31T21:26:05.333134Z"
    }
   },
   "cell_type": "code",
   "source": [
    "assert kmp_search(\"abc\", \"bc\") == 1\n",
    "assert kmp_search(\"bc\", \"bc\") == 0\n",
    "assert kmp_search(\"abcd\", \"bc\") == 1\n",
    "assert kmp_search(\"abcd\", \"bk\") == -1\n",
    "assert kmp_search(\"abababc\", \"abc\") == 4\n",
    "assert kmp_search(\"ababababc\", \"ababc\") == 4"
   ],
   "id": "8f80e6a39e85ead2",
   "outputs": [
    {
     "name": "stdout",
     "output_type": "stream",
     "text": [
      "[Jump(text_delta=1, pattern_index=0), Jump(text_delta=1, pattern_index=0)]\n",
      "[Jump(text_delta=1, pattern_index=0), Jump(text_delta=1, pattern_index=0)]\n",
      "[Jump(text_delta=1, pattern_index=0), Jump(text_delta=1, pattern_index=0)]\n",
      "[Jump(text_delta=1, pattern_index=0), Jump(text_delta=1, pattern_index=0)]\n",
      "[Jump(text_delta=1, pattern_index=0), Jump(text_delta=1, pattern_index=0), Jump(text_delta=2, pattern_index=0)]\n",
      "[Jump(text_delta=1, pattern_index=0), Jump(text_delta=1, pattern_index=0), Jump(text_delta=2, pattern_index=0), Jump(text_delta=3, pattern_index=0), Jump(text_delta=4, pattern_index=0)]\n"
     ]
    }
   ],
   "execution_count": 63
  },
  {
   "metadata": {},
   "cell_type": "code",
   "outputs": [],
   "execution_count": null,
   "source": "",
   "id": "bb7b16ea959f7e70"
  }
 ],
 "metadata": {
  "kernelspec": {
   "display_name": "Python 3",
   "language": "python",
   "name": "python3"
  },
  "language_info": {
   "codemirror_mode": {
    "name": "ipython",
    "version": 2
   },
   "file_extension": ".py",
   "mimetype": "text/x-python",
   "name": "python",
   "nbconvert_exporter": "python",
   "pygments_lexer": "ipython2",
   "version": "2.7.6"
  }
 },
 "nbformat": 4,
 "nbformat_minor": 5
}
