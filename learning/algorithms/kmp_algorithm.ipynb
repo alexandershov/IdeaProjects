{
 "cells": [
  {
   "metadata": {},
   "cell_type": "markdown",
   "source": "## KMP substring search",
   "id": "8e317db3f3af45b1"
  },
  {
   "metadata": {},
   "cell_type": "markdown",
   "source": [
    "KMP (Knuth-Morris-Pratt) is a substring search algorithm.\n",
    "It works in linear time.\n",
    "It preprocesses pattern, so when we mismatch, we can use information of what matched earlier to jump to the next possible positions in the text/pattern.\n",
    "\n",
    "We have a state consisting of\n",
    "* m: index at text where we started a match\n",
    "* i: index at pattern \n",
    "* \n",
    "We're building a prefix function Pf for a pattern.\n",
    "\n",
    "Pf is essentially an array of len(pattern).\n",
    "Pf[i] = k means that pattern[0:k] == pattern[i - k + 1:i] and for every m > k\n",
    "pattern[0:m] != pattern[i - k + 1:i].\n",
    "Also k != i.\n",
    "Essentially k is a biggest length of a suffix of a pattern[:i] that's also a prefix of pattern\n",
    "\n",
    "We can use prefix function to implement KMP:\n",
    "* If we have a mismatch, then we look at Pf[i - 1] to figure out changes of m and i"
   ],
   "id": "9f436489dc1bac76"
  }
 ],
 "metadata": {
  "kernelspec": {
   "display_name": "Python 3",
   "language": "python",
   "name": "python3"
  },
  "language_info": {
   "codemirror_mode": {
    "name": "ipython",
    "version": 2
   },
   "file_extension": ".py",
   "mimetype": "text/x-python",
   "name": "python",
   "nbconvert_exporter": "python",
   "pygments_lexer": "ipython2",
   "version": "2.7.6"
  }
 },
 "nbformat": 4,
 "nbformat_minor": 5
}
