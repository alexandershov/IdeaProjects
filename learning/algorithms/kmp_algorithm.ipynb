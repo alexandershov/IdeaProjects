{
 "cells": [
  {
   "metadata": {},
   "cell_type": "markdown",
   "source": "## KMP substring search",
   "id": "8e317db3f3af45b1"
  },
  {
   "metadata": {},
   "cell_type": "markdown",
   "source": [
    "KMP (Knuth-Morris-Pratt) is a substring search algorithm.\n",
    "It works in linear time.\n",
    "It preprocesses pattern, so when we mismatch, we can use information of what matched earlier to jump to the next possible positions in the text/pattern."
   ],
   "id": "9f436489dc1bac76"
  },
  {
   "metadata": {},
   "cell_type": "code",
   "outputs": [],
   "execution_count": null,
   "source": [
    "def kmp_search(text, pattern):\n",
    "    pass"
   ],
   "id": "809133a2e01dcb1e"
  }
 ],
 "metadata": {
  "kernelspec": {
   "display_name": "Python 3",
   "language": "python",
   "name": "python3"
  },
  "language_info": {
   "codemirror_mode": {
    "name": "ipython",
    "version": 2
   },
   "file_extension": ".py",
   "mimetype": "text/x-python",
   "name": "python",
   "nbconvert_exporter": "python",
   "pygments_lexer": "ipython2",
   "version": "2.7.6"
  }
 },
 "nbformat": 4,
 "nbformat_minor": 5
}
