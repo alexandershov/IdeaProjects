{
 "cells": [
  {
   "metadata": {},
   "cell_type": "markdown",
   "source": "## KMP substring search",
   "id": "8e317db3f3af45b1"
  },
  {
   "metadata": {},
   "cell_type": "markdown",
   "source": [
    "KMP (Knuth-Morris-Pratt) is a substring search algorithm.\n",
    "It works in linear time.\n",
    "It preprocesses pattern, so when we mismatch, we can use information of what matched earlier to jump to the next possible positions in the text/pattern."
   ],
   "id": "9f436489dc1bac76"
  },
  {
   "metadata": {
    "ExecuteTime": {
     "end_time": "2024-07-30T21:10:48.861529Z",
     "start_time": "2024-07-30T21:10:48.855562Z"
    }
   },
   "cell_type": "code",
   "source": [
    "from dataclasses import dataclass\n",
    "\n",
    "@dataclass(frozen=True)\n",
    "class Jump:\n",
    "    text_delta: int\n",
    "    pattern_index: int\n",
    "\n",
    "def kmp_search(text, pattern):\n",
    "    jumps = build_jumps(pattern)\n",
    "    print(f\"{pattern=}, {jumps=}\")\n",
    "    t = 0\n",
    "    p = 0\n",
    "    while t + p < len(text):\n",
    "        if text[t + p] == pattern[p]:\n",
    "            p += 1\n",
    "            if p == len(pattern):\n",
    "                return t\n",
    "        else:\n",
    "            jump = jumps[p]\n",
    "            p = jump.pattern_index\n",
    "            t += jump.text_delta\n",
    "    return -1\n",
    "\n",
    "\n",
    "def build_jumps(pattern: str) -> list[Jump]:\n",
    "    # This is a quadratic algorithm\n",
    "    if not pattern:\n",
    "        return []\n",
    "    \n",
    "    jumps = [None] * len(pattern)\n",
    "    jumps[0] = Jump(text_delta=1, pattern_index=0)\n",
    "    for i in range(1, len(pattern)):\n",
    "        jumps[i] = Jump(text_delta=i, pattern_index=0)\n",
    "        for j in range(1, i):\n",
    "            if pattern.startswith(pattern[j:i]):\n",
    "                jumps[i] = Jump(text_delta=j, pattern_index=(i - j))\n",
    "                break\n",
    "    return jumps"
   ],
   "id": "809133a2e01dcb1e",
   "outputs": [],
   "execution_count": 13
  },
  {
   "metadata": {
    "ExecuteTime": {
     "end_time": "2024-07-30T21:10:50.767255Z",
     "start_time": "2024-07-30T21:10:50.763957Z"
    }
   },
   "cell_type": "code",
   "source": [
    "assert kmp_search(\"abc\", \"bc\") == 1\n",
    "assert kmp_search(\"bc\", \"bc\") == 0\n",
    "assert kmp_search(\"abcd\", \"bc\") == 1\n",
    "assert kmp_search(\"abcd\", \"bk\") == -1"
   ],
   "id": "8f80e6a39e85ead2",
   "outputs": [
    {
     "name": "stdout",
     "output_type": "stream",
     "text": [
      "pattern='bc', jumps=[Jump(text_delta=1, pattern_index=0), Jump(text_delta=1, pattern_index=0)]\n",
      "pattern='bc', jumps=[Jump(text_delta=1, pattern_index=0), Jump(text_delta=1, pattern_index=0)]\n",
      "pattern='bc', jumps=[Jump(text_delta=1, pattern_index=0), Jump(text_delta=1, pattern_index=0)]\n",
      "pattern='bk', jumps=[Jump(text_delta=1, pattern_index=0), Jump(text_delta=1, pattern_index=0)]\n"
     ]
    }
   ],
   "execution_count": 14
  },
  {
   "metadata": {},
   "cell_type": "code",
   "outputs": [],
   "execution_count": null,
   "source": "",
   "id": "bb7b16ea959f7e70"
  }
 ],
 "metadata": {
  "kernelspec": {
   "display_name": "Python 3",
   "language": "python",
   "name": "python3"
  },
  "language_info": {
   "codemirror_mode": {
    "name": "ipython",
    "version": 2
   },
   "file_extension": ".py",
   "mimetype": "text/x-python",
   "name": "python",
   "nbconvert_exporter": "python",
   "pygments_lexer": "ipython2",
   "version": "2.7.6"
  }
 },
 "nbformat": 4,
 "nbformat_minor": 5
}
