{
 "cells": [
  {
   "metadata": {},
   "cell_type": "markdown",
   "source": " ## ASGI",
   "id": "e032790c3881ce3"
  },
  {
   "metadata": {},
   "cell_type": "markdown",
   "source": [
    "ASGI (async server gateway interface) is a successor (kinda) to WSGI, it's async and not tied to the request-response paradigm.\n",
    "\n",
    "You need to provide a function taking 3 arguments: `scope`, `receive`, and `send`.\n",
    "\n",
    "* `scope` is information about current connection.\n",
    "* `receive` is a coroutine that can, ahem, receive event from the client\n",
    "* `send` is a coroutine that can, ahem, send event to the client.\n",
    "\n",
    "Event can be e.g., http request, http response, chunk in http response, or websocket message.\n",
    "\n",
    "ASGI server will call your function once for every http request or websocket connection."
   ],
   "id": "7913e92699f4abc9"
  },
  {
   "metadata": {
    "ExecuteTime": {
     "end_time": "2024-07-08T19:34:44.300147Z",
     "start_time": "2024-07-08T19:34:44.295870Z"
    }
   },
   "cell_type": "code",
   "source": [
    "import json\n",
    "\n",
    "\n",
    "async def app(scope, receive, send):\n",
    "    # type is a required key in scope\n",
    "    if scope[\"type\"] == \"http\":\n",
    "        # scope contains information about http request (path, headers, etc)\n",
    "        print(f'got {scope=}')\n",
    "        await send({'type': 'http.response.start', 'status': 200, 'headers': [[b'content-type', b'application/json']]})\n",
    "        await send(\n",
    "            {'type': 'http.response.body', 'body': json.dumps({\"healthy\": \"ok\"}).encode('ascii'), 'more_body': False})\n",
    "    elif scope[\"type\"] == \"websocket\":\n",
    "        # websocket protocol in asgi is this:\n",
    "        # we get event type=websocket.connect\n",
    "        event = await receive()\n",
    "        print(f'got {event=}')\n",
    "        # we respond with websocket.accept\n",
    "        await send({'type': 'websocket.accept'})\n",
    "        # now we can receive messages with `receive` (type=websocket.receive)\n",
    "        event = await receive()\n",
    "        print(f'got {event=}')\n",
    "        # and send messages with `send` type='websocket.send'\n",
    "        await send({'type': 'websocket.send', 'text': f'hello from websocket {event}'})\n",
    "    else:\n",
    "        print(f\"got {scope=}\")\n"
   ],
   "id": "ad7de53e74cd364b",
   "outputs": [],
   "execution_count": 5
  },
  {
   "metadata": {},
   "cell_type": "markdown",
   "source": "We can run our app with ASGI-compatible server. Cool kids use `uvicorn` as an ASGI-compatible server.\n",
   "id": "f795ce2b70a73d6"
  },
  {
   "metadata": {
    "ExecuteTime": {
     "start_time": "2024-07-08T19:34:47.533999Z"
    }
   },
   "cell_type": "code",
   "source": [
    "import functools\n",
    "import threading\n",
    "import uvicorn\n",
    "\n",
    "# running uvicorn in a separate thread, to work around asyncio.run() inside of asyncio.run() \n",
    "# lifespan='on' enables asgi lifespan spec: https://asgi.readthedocs.io/en/latest/specs/lifespan.html\n",
    "# this is probably what fastapi uses for its lifespan events (startup/shutdown/etc)\n",
    "run_uvicorn = functools.partial(uvicorn.run, host='0.0.0.0', port=8000, lifespan='on')\n",
    "t = threading.Thread(target=run_uvicorn, args=(app,))\n",
    "t.start()\n",
    "t.join()"
   ],
   "id": "62af93e1a9c7c0cb",
   "outputs": [
    {
     "name": "stderr",
     "output_type": "stream",
     "text": [
      "INFO:     Started server process [75574]\n",
      "INFO:     Waiting for application startup.\n",
      "INFO:     Application startup complete.\n",
      "INFO:     Uvicorn running on http://0.0.0.0:8000 (Press CTRL+C to quit)\n"
     ]
    },
    {
     "name": "stdout",
     "output_type": "stream",
     "text": [
      "got scope={'type': 'lifespan', 'asgi': {'version': '3.0', 'spec_version': '2.0'}, 'state': {}}\n",
      "got scope={'type': 'http', 'asgi': {'version': '3.0', 'spec_version': '2.3'}, 'http_version': '1.1', 'server': ('127.0.0.1', 8000), 'client': ('127.0.0.1', 50101), 'scheme': 'http', 'root_path': '', 'headers': [(b'host', b'localhost:8000'), (b'user-agent', b'curl/8.6.0'), (b'accept', b'*/*')], 'state': {}, 'method': 'GET', 'path': '/', 'raw_path': b'/', 'query_string': b''}\n",
      "INFO:     127.0.0.1:50101 - \"GET / HTTP/1.1\" 200 OK\n"
     ]
    },
    {
     "name": "stderr",
     "output_type": "stream",
     "text": [
      "INFO:     ('127.0.0.1', 50184) - \"WebSocket /websockets_stream\" [accepted]\n",
      "INFO:     connection open\n",
      "INFO:     connection closed\n"
     ]
    },
    {
     "name": "stdout",
     "output_type": "stream",
     "text": [
      "got event={'type': 'websocket.connect'}\n",
      "got event={'type': 'websocket.receive', 'text': '{\"some\": \"message\"}'}\n"
     ]
    }
   ],
   "execution_count": null
  },
  {
   "metadata": {},
   "cell_type": "markdown",
   "source": "Let's make http request to our server",
   "id": "4f33403b4f518a8f"
  },
  {
   "metadata": {},
   "cell_type": "markdown",
   "source": [
    "```shell\n",
    "curl http://localhost:8000\n",
    "```"
   ],
   "id": "d86cea26c0086049"
  },
  {
   "metadata": {},
   "cell_type": "markdown",
   "source": "For websockets example use websocket request from [intellij_http_client.http](./intellij_http_client.http)",
   "id": "fd04890270d76057"
  },
  {
   "metadata": {},
   "cell_type": "markdown",
   "source": "ASGI is extensible, you can extend it to support GRPC etc. You just need a support from ASGI-server for that.",
   "id": "ebb1c0829ab27a11"
  }
 ],
 "metadata": {
  "kernelspec": {
   "display_name": "Python 3",
   "language": "python",
   "name": "python3"
  },
  "language_info": {
   "codemirror_mode": {
    "name": "ipython",
    "version": 2
   },
   "file_extension": ".py",
   "mimetype": "text/x-python",
   "name": "python",
   "nbconvert_exporter": "python",
   "pygments_lexer": "ipython2",
   "version": "2.7.6"
  }
 },
 "nbformat": 4,
 "nbformat_minor": 5
}
