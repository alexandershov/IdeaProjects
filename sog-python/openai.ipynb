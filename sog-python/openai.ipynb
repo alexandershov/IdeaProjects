{
 "cells": [
  {
   "metadata": {},
   "cell_type": "markdown",
   "source": "# OpenAI ",
   "id": "f70f714e9a9b9db1"
  },
  {
   "metadata": {
    "ExecuteTime": {
     "end_time": "2024-06-05T17:10:47.410560Z",
     "start_time": "2024-06-05T17:10:40.670355Z"
    }
   },
   "cell_type": "code",
   "source": [
    "import getpass\n",
    "import openai\n",
    "\n",
    "client = openai.OpenAI(api_key=getpass.getpass('Enter your API key: '))"
   ],
   "id": "cd255277522ceaa7",
   "outputs": [],
   "execution_count": 2
  },
  {
   "metadata": {
    "ExecuteTime": {
     "end_time": "2024-06-05T17:12:41.966401Z",
     "start_time": "2024-06-05T17:12:40.008455Z"
    }
   },
   "cell_type": "code",
   "source": [
    "chat_completion = client.chat.completions.create(messages=[\n",
    "    {\n",
    "        \"role\": \"user\",\n",
    "        \"content\": \"what's my favorite color?\",\n",
    "    },\n",
    "],\n",
    "    model='gpt-4o'\n",
    ")"
   ],
   "id": "d6640d2175fb7c39",
   "outputs": [],
   "execution_count": 3
  },
  {
   "metadata": {
    "ExecuteTime": {
     "end_time": "2024-06-05T17:13:08.677299Z",
     "start_time": "2024-06-05T17:13:08.675204Z"
    }
   },
   "cell_type": "code",
   "source": "print(chat_completion.choices[0].message.content)",
   "id": "9b74eb5fd8fe68ce",
   "outputs": [
    {
     "name": "stdout",
     "output_type": "stream",
     "text": [
      "I don't have access to personal information about you unless you share it with me. So, I don't know your favorite color. If you'd like to tell me, I'd be happy to chat about it!\n"
     ]
    }
   ],
   "execution_count": 7
  },
  {
   "metadata": {},
   "cell_type": "markdown",
   "source": [
    "## RAG\n",
    "Let's add RAG to our interactions\n",
    "We'll store documents in a vector database (ChromaDB) and we'll find \n",
    "documents most similar to our query to pass to LLM as an extra context"
   ],
   "id": "ee6861be12ee99bb"
  },
  {
   "metadata": {
    "ExecuteTime": {
     "end_time": "2024-06-07T19:19:35.304349Z",
     "start_time": "2024-06-07T19:19:34.512523Z"
    }
   },
   "cell_type": "code",
   "source": [
    "import chromadb\n",
    "\n",
    "db = chromadb.Client()\n",
    "collection = db.get_or_create_collection(\"my_documents\")\n",
    "collection.add(\n",
    "    # under the hood chromadb will convert documents to embeddings (float vectors)\n",
    "    # for that it downloads 79Mb transformer model \n",
    "    documents=[\"my favorite color is blue\", \"my favorite movies are Glengarry Glen Ross and Godfather part 2\"],\n",
    "    ids=[\"color\", \"movies\"],\n",
    ")\n",
    "\n",
    "from chromadb.utils.embedding_functions import OpenAIEmbeddingFunction\n",
    "\n",
    "# OpenAI provides embedding support in its API, we can use them instead\n",
    "embedding_function = OpenAIEmbeddingFunction(\n",
    "    api_key=client.api_key, model_name='text-embedding-3-large')\n",
    "openai_collection = db.get_or_create_collection(\"openai_documents\", embedding_function=embedding_function)\n",
    "openai_collection.add(\n",
    "    documents=[\"my favorite color is blue\", \"my favorite movies are Glengarry Glen Ross and Godfather part 2\"],\n",
    "    ids=[\"color\", \"movies\"]\n",
    ")"
   ],
   "id": "eb96a39639c0cff5",
   "outputs": [
    {
     "name": "stderr",
     "output_type": "stream",
     "text": [
      "Insert of existing embedding ID: color\n",
      "Insert of existing embedding ID: movies\n",
      "Add of existing embedding ID: color\n",
      "Add of existing embedding ID: movies\n"
     ]
    }
   ],
   "execution_count": 93
  },
  {
   "metadata": {
    "ExecuteTime": {
     "end_time": "2024-06-05T17:20:50.622889Z",
     "start_time": "2024-06-05T17:20:50.390924Z"
    }
   },
   "cell_type": "code",
   "source": [
    "# chroma uses some measure to find the most suitable document\n",
    "chroma_resp = collection.query(query_texts=[\"what is my favorite color?\"], n_results=1)"
   ],
   "id": "fcd970044a6cef7d",
   "outputs": [],
   "execution_count": 17
  },
  {
   "metadata": {
    "ExecuteTime": {
     "end_time": "2024-06-05T17:20:52.960497Z",
     "start_time": "2024-06-05T17:20:52.958375Z"
    }
   },
   "cell_type": "code",
   "source": "print(chroma_resp['documents'][0][0])",
   "id": "86ab8797c14c5d2f",
   "outputs": [
    {
     "name": "stdout",
     "output_type": "stream",
     "text": [
      "my favorite color is blue\n"
     ]
    }
   ],
   "execution_count": 18
  },
  {
   "metadata": {
    "ExecuteTime": {
     "end_time": "2024-06-07T19:20:00.610447Z",
     "start_time": "2024-06-07T19:20:00.606424Z"
    }
   },
   "cell_type": "code",
   "source": [
    "def query_with_context(question, coll):\n",
    "    r = coll.query(query_texts=[question], n_results=1)\n",
    "    context = r['documents'][0][0]\n",
    "\n",
    "    completion = client.chat.completions.create(messages=[\n",
    "        {\n",
    "            \"role\": \"system\",\n",
    "            \"content\": f\"Give a short answer to a question. Extra context: {context}\",\n",
    "        },\n",
    "        {\n",
    "            \"role\": \"user\",\n",
    "            \"content\": question,\n",
    "        },\n",
    "    ],\n",
    "        model='gpt-4o'\n",
    "    )\n",
    "    return completion.choices[0].message.content"
   ],
   "id": "74fb0228a7d3f7ff",
   "outputs": [],
   "execution_count": 95
  },
  {
   "metadata": {
    "ExecuteTime": {
     "end_time": "2024-06-07T19:20:03.693406Z",
     "start_time": "2024-06-07T19:20:02.633183Z"
    }
   },
   "cell_type": "code",
   "source": "query_with_context(\"what is my favorite color?\", collection)",
   "id": "6b05a0feaefd92",
   "outputs": [
    {
     "data": {
      "text/plain": [
       "'Blue.'"
      ]
     },
     "execution_count": 96,
     "metadata": {},
     "output_type": "execute_result"
    }
   ],
   "execution_count": 96
  },
  {
   "metadata": {},
   "cell_type": "markdown",
   "source": "We can use OpenAI embeddings with pretty much the same result",
   "id": "e749a6c9389dcaa4"
  },
  {
   "metadata": {
    "ExecuteTime": {
     "end_time": "2024-06-07T19:20:33.288355Z",
     "start_time": "2024-06-07T19:20:32.090806Z"
    }
   },
   "cell_type": "code",
   "source": "query_with_context(\"what is my favorite color?\", openai_collection)",
   "id": "a045e311bc71fee3",
   "outputs": [
    {
     "data": {
      "text/plain": [
       "'Your favorite color is blue.'"
      ]
     },
     "execution_count": 98,
     "metadata": {},
     "output_type": "execute_result"
    }
   ],
   "execution_count": 98
  },
  {
   "metadata": {},
   "cell_type": "code",
   "outputs": [
    {
     "data": {
      "text/plain": [
       "'Al Pacino.'"
      ]
     },
     "execution_count": 29,
     "metadata": {},
     "output_type": "execute_result"
    }
   ],
   "execution_count": 29,
   "source": "query_with_context(\"which actor stars in my favorite movies?\")",
   "id": "ca5517acbf37ed08"
  },
  {
   "metadata": {},
   "cell_type": "markdown",
   "source": [
    "## ReAct\n",
    "Let's implement ReAct"
   ],
   "id": "31c21b156aa531da"
  },
  {
   "metadata": {
    "ExecuteTime": {
     "end_time": "2024-06-05T17:30:16.124963Z",
     "start_time": "2024-06-05T17:30:15.204303Z"
    }
   },
   "cell_type": "code",
   "source": "query_with_context(\"what's the uppercased result of frobnication of 'openai python api'?\")",
   "id": "a6391ba3455a9185",
   "outputs": [
    {
     "data": {
      "text/plain": [
       "\"FROBNICATION OF 'OPENAI PYTHON API'\""
      ]
     },
     "execution_count": 31,
     "metadata": {},
     "output_type": "execute_result"
    }
   ],
   "execution_count": 31
  },
  {
   "metadata": {
    "ExecuteTime": {
     "end_time": "2024-06-05T17:43:39.386293Z",
     "start_time": "2024-06-05T17:43:38.394366Z"
    }
   },
   "cell_type": "code",
   "source": [
    "import collections\n",
    "\n",
    "# we need to store chat_history, as api has no \"memory\"\n",
    "chat_history = collections.deque(maxlen=20)\n",
    "chat_history.append({\n",
    "    \"role\": \"system\",\n",
    "    \"content\": \"\"\"Give a short answer to a question.\n",
    "        Here's are some useful tools at your disposal:\n",
    "        * frobnicate(string) -> string\n",
    "        * booya(int, int) -> int\n",
    "        \n",
    "        If you think that these tools can help you, then you should respond with valid json:\n",
    "        {\"tool\": <tool_name>, \"args\": <args>}\n",
    "        \n",
    "        I'll call the tool in my next response and provide the result of the call as valid json: \n",
    "        {\"result\": <result>} \n",
    "        You can use this result to answer the original question.\n",
    "        \"\"\",\n",
    "})\n",
    "chat_history.append({\n",
    "    \"role\": \"user\",\n",
    "    \"content\": \"what's the uppercased result of frobnication of 'openai python api'?\"\n",
    "})\n",
    "response = client.chat.completions.create(messages=chat_history, model='gpt-4o')"
   ],
   "id": "181e59b2c69e866f",
   "outputs": [],
   "execution_count": 55
  },
  {
   "metadata": {
    "ExecuteTime": {
     "end_time": "2024-06-05T17:43:40.879860Z",
     "start_time": "2024-06-05T17:43:40.875867Z"
    }
   },
   "cell_type": "code",
   "source": "chat_history.append({\"role\": \"assistant\", \"content\": response.choices[0].message.content})",
   "id": "bc01b05eba4ab3e",
   "outputs": [],
   "execution_count": 56
  },
  {
   "metadata": {
    "ExecuteTime": {
     "end_time": "2024-06-05T17:43:42.701375Z",
     "start_time": "2024-06-05T17:43:42.694084Z"
    }
   },
   "cell_type": "code",
   "source": "chat_history[-1]",
   "id": "625ef028a4796662",
   "outputs": [
    {
     "data": {
      "text/plain": [
       "{'role': 'assistant',\n",
       " 'content': '{\"tool\": \"frobnicate\", \"args\": [\"openai python api\"]}'}"
      ]
     },
     "execution_count": 57,
     "metadata": {},
     "output_type": "execute_result"
    }
   ],
   "execution_count": 57
  },
  {
   "metadata": {
    "ExecuteTime": {
     "end_time": "2024-06-05T17:43:52.444151Z",
     "start_time": "2024-06-05T17:43:52.439647Z"
    }
   },
   "cell_type": "code",
   "source": [
    "import json\n",
    "\n",
    "request = json.loads(chat_history[-1]['content'])\n",
    "print(request)"
   ],
   "id": "a232cfa42f92630e",
   "outputs": [
    {
     "name": "stdout",
     "output_type": "stream",
     "text": [
      "{'tool': 'frobnicate', 'args': ['openai python api']}\n"
     ]
    }
   ],
   "execution_count": 59
  },
  {
   "metadata": {
    "ExecuteTime": {
     "end_time": "2024-06-05T17:44:35.622527Z",
     "start_time": "2024-06-05T17:44:35.619597Z"
    }
   },
   "cell_type": "code",
   "source": [
    "# here we can get a tool name from parsed json and call some function based on e.g. dict lookup\n",
    "# let's just fake it\n",
    "chat_history.append({\"role\": \"user\", \"content\": json.dumps({\"result\": \"it's awesome\"})})"
   ],
   "id": "3e402c1441e858fa",
   "outputs": [],
   "execution_count": 61
  },
  {
   "metadata": {
    "ExecuteTime": {
     "end_time": "2024-06-05T17:44:39.930783Z",
     "start_time": "2024-06-05T17:44:39.283593Z"
    }
   },
   "cell_type": "code",
   "source": "response = client.chat.completions.create(messages=chat_history, model='gpt-4o')",
   "id": "6373dbba145d0c01",
   "outputs": [],
   "execution_count": 62
  },
  {
   "metadata": {
    "ExecuteTime": {
     "end_time": "2024-06-05T17:44:40.567940Z",
     "start_time": "2024-06-05T17:44:40.564295Z"
    }
   },
   "cell_type": "code",
   "source": "print(response.choices[0].message.content)",
   "id": "afa158f4bcb3836c",
   "outputs": [
    {
     "name": "stdout",
     "output_type": "stream",
     "text": [
      "IT'S AWESOME\n"
     ]
    }
   ],
   "execution_count": 63
  },
  {
   "metadata": {},
   "cell_type": "markdown",
   "source": "ReAct works, LLM did all the job, even uppercased the result.",
   "id": "47a72157d215afe9"
  },
  {
   "metadata": {},
   "cell_type": "markdown",
   "source": "## Image generation",
   "id": "54782093a1fd34e6"
  },
  {
   "metadata": {
    "ExecuteTime": {
     "end_time": "2024-06-06T18:02:56.848423Z",
     "start_time": "2024-06-06T18:02:41.611459Z"
    }
   },
   "cell_type": "code",
   "source": [
    "response = client.images.generate(\n",
    "    model='dall-e-3',\n",
    "    prompt='bullet dodging scene from the matrix but with penguin and elephant',\n",
    "    size='1024x1024',\n",
    "    quality='standard',\n",
    "    # generate 1 image, actually dall-e-3 can do only 1 image per api call\n",
    "    n=1,\n",
    "    response_format='b64_json',\n",
    ")"
   ],
   "id": "5a15fb8e99265e78",
   "outputs": [],
   "execution_count": 65
  },
  {
   "metadata": {
    "ExecuteTime": {
     "end_time": "2024-06-06T18:12:35.029811Z",
     "start_time": "2024-06-06T18:12:35.017656Z"
    }
   },
   "cell_type": "code",
   "source": [
    "import base64\n",
    "\n",
    "b64_image = response.data[0].b64_json\n",
    "decoded = base64.b64decode(b64_image)"
   ],
   "id": "8d08cedc2d2deff2",
   "outputs": [],
   "execution_count": 82
  },
  {
   "metadata": {
    "ExecuteTime": {
     "end_time": "2024-06-06T18:13:58.864192Z",
     "start_time": "2024-06-06T18:13:58.859803Z"
    }
   },
   "cell_type": "code",
   "source": [
    "import pathlib\n",
    "\n",
    "pathlib.Path('genai_image.png').write_bytes(decoded)"
   ],
   "id": "14bc3d2f00670901",
   "outputs": [
    {
     "data": {
      "text/plain": [
       "3162696"
      ]
     },
     "execution_count": 86,
     "metadata": {},
     "output_type": "execute_result"
    }
   ],
   "execution_count": 86
  },
  {
   "metadata": {},
   "cell_type": "markdown",
   "source": "![image](./genai_image.png)",
   "id": "726e9821759d8fa6"
  },
  {
   "metadata": {},
   "cell_type": "markdown",
   "source": "## Image description",
   "id": "97031e4af24283cc"
  },
  {
   "metadata": {
    "ExecuteTime": {
     "end_time": "2024-06-06T18:13:01.840441Z",
     "start_time": "2024-06-06T18:12:54.239173Z"
    }
   },
   "cell_type": "code",
   "source": [
    "response = client.chat.completions.create(\n",
    "    messages=[\n",
    "        {\n",
    "            \"role\": \"user\",\n",
    "            \"content\": [\n",
    "                {\"type\": \"text\", \"text\": \"what's in this image? Give a short reply\"},\n",
    "                {\n",
    "                    \"type\": \"image_url\",\n",
    "                    \"image_url\": {\n",
    "                        \"url\": f\"data:image/jpeg;base64,{b64_image}\",\n",
    "                    }\n",
    "                }\n",
    "            ]\n",
    "        }\n",
    "    ],\n",
    "    model=\"gpt-4o\",\n",
    ")"
   ],
   "id": "b69b548c889da17c",
   "outputs": [],
   "execution_count": 83
  },
  {
   "metadata": {
    "ExecuteTime": {
     "end_time": "2024-06-06T18:13:17.547995Z",
     "start_time": "2024-06-06T18:13:17.546254Z"
    }
   },
   "cell_type": "code",
   "source": "print(response.choices[0].message.content)",
   "id": "3be2857ceb7baa3b",
   "outputs": [
    {
     "name": "stdout",
     "output_type": "stream",
     "text": [
      "The image depicts an animated scene with a penguin in a suit holding a gun and an elephant in a leather jacket in an urban setting.\n"
     ]
    }
   ],
   "execution_count": 85
  },
  {
   "metadata": {},
   "cell_type": "markdown",
   "source": "## Text to speech",
   "id": "5bfe198cf3aaaeb9"
  },
  {
   "metadata": {
    "ExecuteTime": {
     "end_time": "2024-06-06T18:19:54.676855Z",
     "start_time": "2024-06-06T18:19:52.854005Z"
    }
   },
   "cell_type": "code",
   "source": [
    "with client.audio.speech.with_streaming_response.create(\n",
    "        model=\"tts-1-hd\",\n",
    "        voice=\"nova\",\n",
    "        input=\"Welcome to my jupyter notebook, folks!\",\n",
    ") as response:\n",
    "    response.stream_to_file(\"genai_speech.mp3\")"
   ],
   "id": "7528637ae408cb5f",
   "outputs": [],
   "execution_count": 91
  }
 ],
 "metadata": {
  "kernelspec": {
   "display_name": "Python 3",
   "language": "python",
   "name": "python3"
  },
  "language_info": {
   "codemirror_mode": {
    "name": "ipython",
    "version": 2
   },
   "file_extension": ".py",
   "mimetype": "text/x-python",
   "name": "python",
   "nbconvert_exporter": "python",
   "pygments_lexer": "ipython2",
   "version": "2.7.6"
  }
 },
 "nbformat": 4,
 "nbformat_minor": 5
}
