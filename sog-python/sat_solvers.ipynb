{
 "cells": [
  {
   "cell_type": "markdown",
   "id": "b3234d60",
   "metadata": {},
   "source": [
    "## SAT solvers"
   ]
  },
  {
   "cell_type": "markdown",
   "id": "d4c8fd5a",
   "metadata": {},
   "source": [
    "SAT solver is a program that solves boolean satisfiability problem.\n",
    "\n",
    "Solving boolean satisfiability problem is a fancy way of saying: \"find values of boolean variables, such that boolean formula is true\".\n",
    "\n",
    "E.g. boolean formula `X and Y` is true when X is true and Y is true.\n",
    "The same variable can be encountered many times in a formula (`X and (Y or not X) and (Z or not Y)`). That's why solving boolean satisfiability is a hard problem. No known polynomial algorithm exists.\n",
    "\n",
    "But there are SAT solvers that use heuristics for optimizations and can give pretty good results even on the formulas with thousand variables. One of these solvers is [PySAT](https://pysathq.github.io)"
   ]
  },
  {
   "cell_type": "code",
   "execution_count": 1,
   "id": "cdb934a7",
   "metadata": {},
   "outputs": [],
   "source": [
    "from pysat.formula import CNF\n",
    "from pysat.solvers import Solver\n",
    "import matplotlib.pyplot as plt\n",
    "%matplotlib inline"
   ]
  },
  {
   "cell_type": "markdown",
   "id": "b62d7b5d",
   "metadata": {},
   "source": [
    "PySAT solves boolean problems represented in CNF.\n",
    "\n",
    "CNF is a fancy way of saying: \"Conjunctive normal form\".\n",
    "\n",
    "Conjunction is fancy way of saying: \"AND\"\n",
    "\n",
    "Conjunctive normal form looks like `(X or Y or Z) and (not X or T or z)`. Nested clauses can have only `or` and simple negation. Nested clauses are connected via `and`."
   ]
  },
  {
   "cell_type": "code",
   "execution_count": 2,
   "id": "8de2806b",
   "metadata": {},
   "outputs": [
    {
     "data": {
      "text/plain": [
       "[1, 2]"
      ]
     },
     "execution_count": 2,
     "metadata": {},
     "output_type": "execute_result"
    }
   ],
   "source": [
    "def solve(clauses):\n",
    "    cnf = CNF(from_clauses=clauses)\n",
    "    with Solver(bootstrap_with=cnf) as solver:\n",
    "        if solver.solve():\n",
    "            return solver.get_model()\n",
    "\n",
    "solve([[1], [2]])  # 1 is a variable, 2 is another variable, this represents `1 AND 2`"
   ]
  },
  {
   "cell_type": "markdown",
   "id": "66e8bcee",
   "metadata": {},
   "source": [
    "`[1, 2]` means that our boolean formula is true when 1 is true and when 2 is true."
   ]
  },
  {
   "cell_type": "markdown",
   "id": "88c31abc",
   "metadata": {},
   "source": [
    "-1 or -2 means negation of variable 1 or 2."
   ]
  },
  {
   "cell_type": "code",
   "execution_count": 3,
   "id": "131f8f10",
   "metadata": {},
   "outputs": [
    {
     "data": {
      "text/plain": [
       "[1, -2]"
      ]
     },
     "execution_count": 3,
     "metadata": {},
     "output_type": "execute_result"
    }
   ],
   "source": [
    "solve([[-1, -2], [1, 2]])  # `(NOT 1 or NOT 2) AND (1 OR 2)"
   ]
  },
  {
   "cell_type": "markdown",
   "id": "6ce0d382",
   "metadata": {},
   "source": [
    "Many problems can be converted to SAT.\n",
    "\n",
    "Let's solve [N queens puzzle](https://en.wikipedia.org/wiki/Eight_queens_puzzle) using SAT solver."
   ]
  },
  {
   "cell_type": "code",
   "execution_count": 4,
   "id": "60922fa4",
   "metadata": {},
   "outputs": [
    {
     "data": {
      "text/plain": [
       "[[1, 2], [-1, -2]]"
      ]
     },
     "execution_count": 4,
     "metadata": {},
     "output_type": "execute_result"
    }
   ],
   "source": [
    "import itertools\n",
    "\n",
    "\n",
    "def n_of(ns, variables):\n",
    "    \"\"\"\n",
    "    Generate cnf that is true when exactly ns[0] or ns[1] ... or ns[-1] variables are true\n",
    "    \"\"\"\n",
    "    not_n_of_dnf = []\n",
    "    for n in range(0, len(variables) + 1):\n",
    "        if n in ns:\n",
    "            continue\n",
    "        for true_vars in itertools.combinations(variables, n):\n",
    "            true_vars = set(true_vars)\n",
    "            false_vars = [-v for v in variables if v not in true_vars]\n",
    "            not_n_of_dnf.append(list(true_vars) + false_vars)\n",
    "    return negate_dnf_to_cnf(not_n_of_dnf)\n",
    "\n",
    "\n",
    "def negate_dnf_to_cnf(dnf):\n",
    "    return [\n",
    "        [-var for var in clause]\n",
    "        for clause in dnf\n",
    "    ]\n",
    "\n",
    "n_of(ns=[1], variables=[1, 2])  # this represents XOR"
   ]
  },
  {
   "cell_type": "markdown",
   "id": "09e56e1c",
   "metadata": {},
   "source": [
    "We represent every square on the chessboard with the boolean variable that is true when it contains a queen. With this representation we just need to solve the formula: each row/vertical/diagonal should contain <= 1 queen. And we should have n queens total. SAT solver can do it for us."
   ]
  },
  {
   "cell_type": "code",
   "execution_count": 13,
   "id": "38916cce",
   "metadata": {},
   "outputs": [
    {
     "data": {
      "image/png": "[encoded data removed]",
      "text/plain": [
       "<Figure size 640x480 with 1 Axes>"
      ]
     },
     "metadata": {},
     "output_type": "display_data"
    }
   ],
   "source": [
    "import numpy as np\n",
    "\n",
    "def to_int_list(array):\n",
    "    return [int(item) for item in array]\n",
    "\n",
    "def solve_n_queens(n):\n",
    "    variables = np.arange(1, n ** 2 + 1)\n",
    "    board = variables.reshape(n, n)\n",
    "    cnf = []\n",
    "    cnf.extend(n_of(ns=[n], variables=to_int_list(variables)))\n",
    "    for i in range(n):\n",
    "        row = board[i]\n",
    "        column = board[:,i]\n",
    "        diagonal1 = np.diagonal(board, offset=i)\n",
    "        diagonal2 = np.diagonal(board, offset=-i)\n",
    "        diagonal3 = np.diagonal(np.fliplr(board), offset=i)\n",
    "        diagonal4 = np.diagonal(np.fliplr(board), offset=-i)\n",
    "        \n",
    "        cnf.extend(n_of(ns=[0, 1], variables=to_int_list(row)))\n",
    "        cnf.extend(n_of(ns=[0, 1], variables=to_int_list(column)))\n",
    "        cnf.extend(n_of(ns=[0, 1], variables=to_int_list(diagonal1)))\n",
    "        cnf.extend(n_of(ns=[0, 1], variables=to_int_list(diagonal2)))\n",
    "        cnf.extend(n_of(ns=[0, 1], variables=to_int_list(diagonal3)))\n",
    "        cnf.extend(n_of(ns=[0, 1], variables=to_int_list(diagonal4)))\n",
    "    return solve(cnf)\n",
    "\n",
    "\n",
    "def show_n_queens(n):\n",
    "    values = solve_n_queens(n)\n",
    "    if values is None:\n",
    "        print(f'no solution for show_n_queens({n=})')\n",
    "        return\n",
    "    xs = []\n",
    "    ys = []\n",
    "    for a_value in values:\n",
    "        if a_value > 0:\n",
    "            y, x = divmod(a_value - 1, n)\n",
    "            xs.append(x + 0.5)\n",
    "            ys.append(y + 0.5)\n",
    "    plt.scatter(xs, ys)\n",
    "    plt.xticks(range(n + 1))\n",
    "    plt.yticks(range(n + 1))\n",
    "    plt.grid(True)\n",
    "    plt.title(f'show_n_queens({n=})')\n",
    "    plt.show()\n",
    "    \n",
    "\n",
    "# TODO: why does it TLE for solve_n_queens(5)?\n",
    "show_n_queens(4)\n"
   ]
  },
  {
   "cell_type": "code",
   "execution_count": null,
   "id": "47c854ad",
   "metadata": {},
   "outputs": [],
   "source": []
  }
 ],
 "metadata": {
  "kernelspec": {
   "display_name": "Python 3 (ipykernel)",
   "language": "python",
   "name": "python3"
  },
  "language_info": {
   "codemirror_mode": {
    "name": "ipython",
    "version": 3
   },
   "file_extension": ".py",
   "mimetype": "text/x-python",
   "name": "python",
   "nbconvert_exporter": "python",
   "pygments_lexer": "ipython3",
   "version": "3.9.6"
  }
 },
 "nbformat": 4,
 "nbformat_minor": 5
}
