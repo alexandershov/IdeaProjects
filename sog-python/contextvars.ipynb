{
 "cells": [
  {
   "metadata": {},
   "cell_type": "markdown",
   "source": "## Contextvars",
   "id": "ca1a89e306bda947"
  },
  {
   "metadata": {},
   "cell_type": "markdown",
   "source": "contextvars are kinda like thread-local but more granular.",
   "id": "8a096061c3808a53"
  },
  {
   "metadata": {
    "ExecuteTime": {
     "end_time": "2024-07-13T11:26:31.387529Z",
     "start_time": "2024-07-13T11:26:31.380828Z"
    }
   },
   "cell_type": "code",
   "source": "import contextvars",
   "id": "76c6078ddc32fc23",
   "outputs": [],
   "execution_count": 1
  },
  {
   "metadata": {},
   "cell_type": "markdown",
   "source": "define a new context var:",
   "id": "a2e52a77385ef97e"
  },
  {
   "metadata": {
    "ExecuteTime": {
     "end_time": "2024-07-13T11:26:41.326437Z",
     "start_time": "2024-07-13T11:26:41.323777Z"
    }
   },
   "cell_type": "code",
   "source": "request_id = contextvars.ContextVar('request_id')",
   "id": "ff91a856ec017516",
   "outputs": [],
   "execution_count": 2
  },
  {
   "metadata": {},
   "cell_type": "markdown",
   "source": "we can get var value with `.get()`",
   "id": "955a4234e0918d5a"
  },
  {
   "metadata": {
    "ExecuteTime": {
     "end_time": "2024-07-13T11:27:00.669726Z",
     "start_time": "2024-07-13T11:27:00.580089Z"
    }
   },
   "cell_type": "code",
   "source": "request_id.get()",
   "id": "d3cac01f91b28cd0",
   "outputs": [
    {
     "ename": "LookupError",
     "evalue": "<ContextVar name='request_id' at 0x10629c0e0>",
     "output_type": "error",
     "traceback": [
      "\u001B[0;31m---------------------------------------------------------------------------\u001B[0m",
      "\u001B[0;31mLookupError\u001B[0m                               Traceback (most recent call last)",
      "Cell \u001B[0;32mIn[3], line 1\u001B[0m\n\u001B[0;32m----> 1\u001B[0m \u001B[43mrequest_id\u001B[49m\u001B[38;5;241;43m.\u001B[39;49m\u001B[43mget\u001B[49m\u001B[43m(\u001B[49m\u001B[43m)\u001B[49m\n",
      "\u001B[0;31mLookupError\u001B[0m: <ContextVar name='request_id' at 0x10629c0e0>"
     ]
    }
   ],
   "execution_count": 3
  },
  {
   "metadata": {},
   "cell_type": "markdown",
   "source": "Actually we can't, because request_id is unbound nad has no default value",
   "id": "a49652dd8c2d5d2d"
  },
  {
   "metadata": {
    "ExecuteTime": {
     "end_time": "2024-07-13T11:27:36.797639Z",
     "start_time": "2024-07-13T11:27:36.792837Z"
    }
   },
   "cell_type": "code",
   "source": "request_id.set('abc')",
   "id": "303dde7dfd3c5ca9",
   "outputs": [
    {
     "data": {
      "text/plain": [
       "<Token var=<ContextVar name='request_id' at 0x10629c0e0> at 0x106766f40>"
      ]
     },
     "execution_count": 4,
     "metadata": {},
     "output_type": "execute_result"
    }
   ],
   "execution_count": 4
  },
  {
   "metadata": {},
   "cell_type": "markdown",
   "source": "Now `.get()` works",
   "id": "82983bec42536ebf"
  },
  {
   "metadata": {},
   "cell_type": "code",
   "outputs": [
    {
     "data": {
      "text/plain": [
       "'abc'"
      ]
     },
     "execution_count": 5,
     "metadata": {},
     "output_type": "execute_result"
    }
   ],
   "execution_count": 5,
   "source": "request_id.get()",
   "id": "97d871a563ac0810"
  },
  {
   "metadata": {},
   "cell_type": "markdown",
   "source": "We can create a new context and run some code in this new context",
   "id": "f710e777f4266091"
  },
  {
   "metadata": {
    "ExecuteTime": {
     "end_time": "2024-07-13T11:31:06.628103Z",
     "start_time": "2024-07-13T11:31:06.625214Z"
    }
   },
   "cell_type": "code",
   "source": [
    "def handle_request(new_request_id):\n",
    "    print(f\"before {request_id.get()=}\")\n",
    "    request_id.set(new_request_id)\n",
    "    print(f\"after {request_id.get()=}\")"
   ],
   "id": "96991a3ada624396",
   "outputs": [],
   "execution_count": 6
  },
  {
   "metadata": {
    "ExecuteTime": {
     "end_time": "2024-07-13T11:31:08.425794Z",
     "start_time": "2024-07-13T11:31:08.422897Z"
    }
   },
   "cell_type": "code",
   "source": [
    "ctx = contextvars.copy_context()\n",
    "ctx.run(handle_request, 'def')"
   ],
   "id": "a14b5e4b45870ad1",
   "outputs": [
    {
     "name": "stdout",
     "output_type": "stream",
     "text": [
      "before request_id.get()='abc'\n",
      "after request_id.get()='def'\n"
     ]
    }
   ],
   "execution_count": 7
  },
  {
   "metadata": {},
   "cell_type": "markdown",
   "source": "Value of request_id didn't change in the primary context:",
   "id": "96eb4834c6a031a"
  },
  {
   "metadata": {
    "ExecuteTime": {
     "end_time": "2024-07-13T11:32:17.544108Z",
     "start_time": "2024-07-13T11:32:17.540373Z"
    }
   },
   "cell_type": "code",
   "source": "request_id.get()",
   "id": "c61a269dbef474a",
   "outputs": [
    {
     "data": {
      "text/plain": [
       "'abc'"
      ]
     },
     "execution_count": 8,
     "metadata": {},
     "output_type": "execute_result"
    }
   ],
   "execution_count": 8
  },
  {
   "metadata": {},
   "cell_type": "markdown",
   "source": [
    "Under the hood, there's a thread-local variable, that is a mapping of contextvars.\n",
    "You can copy it in O(1) with `copy_context`.\n",
    "`X.run()` reassigns this thread-local to point to `X` for a duration of `run`. It restores the previous context at exit.\n",
    "\n",
    "Also `contextvars` are asyncio-friendly, as `asyncio.create_task`, `asyncio.call_*` take an additional context argument. So you can have a single context for your task.\n",
    "\n",
    "So if you just create a new thread in your `asyncio` then you'll have no current context in a thread. You need to be careful to run your code in a thread by using `context.run` or by using context-aware `asyncio.to_thread`."
   ],
   "id": "7f893881fa0ac9ad"
  }
 ],
 "metadata": {
  "kernelspec": {
   "display_name": "Python 3",
   "language": "python",
   "name": "python3"
  },
  "language_info": {
   "codemirror_mode": {
    "name": "ipython",
    "version": 2
   },
   "file_extension": ".py",
   "mimetype": "text/x-python",
   "name": "python",
   "nbconvert_exporter": "python",
   "pygments_lexer": "ipython2",
   "version": "2.7.6"
  }
 },
 "nbformat": 4,
 "nbformat_minor": 5
}
