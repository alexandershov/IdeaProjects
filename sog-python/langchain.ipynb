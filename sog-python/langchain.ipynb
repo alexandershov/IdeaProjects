{
 "cells": [
  {
   "cell_type": "code",
   "id": "initial_id",
   "metadata": {
    "collapsed": true,
    "ExecuteTime": {
     "end_time": "2024-06-03T17:25:46.745710Z",
     "start_time": "2024-06-03T17:25:46.741774Z"
    }
   },
   "source": "import langchain",
   "outputs": [],
   "execution_count": 38
  },
  {
   "metadata": {},
   "cell_type": "markdown",
   "source": "Langchain is a framework for developing LLM applications.",
   "id": "199055fd18320047"
  },
  {
   "metadata": {
    "ExecuteTime": {
     "end_time": "2024-06-03T17:25:50.618255Z",
     "start_time": "2024-06-03T17:25:46.760332Z"
    }
   },
   "cell_type": "code",
   "source": [
    "import getpass\n",
    "import os\n",
    "\n",
    "os.environ['OPENAI_API_KEY'] = getpass.getpass(\n",
    "    'enter openai api key, you can get it from https://platform.openai.com/api-keys')\n",
    "\n"
   ],
   "id": "7de79e49d3c78664",
   "outputs": [],
   "execution_count": 39
  },
  {
   "metadata": {
    "ExecuteTime": {
     "end_time": "2024-06-03T17:25:57.863488Z",
     "start_time": "2024-06-03T17:25:50.619936Z"
    }
   },
   "cell_type": "code",
   "source": [
    "from langchain_openai import ChatOpenAI\n",
    "\n",
    "model = ChatOpenAI(model='gpt-4o')\n",
    "\n",
    "from langchain_core.messages import HumanMessage, SystemMessage\n",
    "\n",
    "messages = [\n",
    "    SystemMessage(content=\"answer the questions as if you're Eminem\"),\n",
    "    HumanMessage(content=\"how to reverse a string in Python?\"),\n",
    "]\n",
    "\n",
    "response = model.invoke(messages)\n",
    "print(response)"
   ],
   "id": "a30452255143811d",
   "outputs": [
    {
     "name": "stdout",
     "output_type": "stream",
     "text": [
      "content='Sure, reversing a string in Python is pretty simple. You can use slicing to achieve that. Here\\'s how you do it:\\n\\n```python\\noriginal_string = \"your_string_here\"\\nreversed_string = original_string[::-1]\\nprint(reversed_string)\\n```\\n\\nSo if you had, like, a string \"Eminem\", and you wanted to reverse it, it\\'d go something like this:\\n\\n```python\\noriginal_string = \"Eminem\"\\nreversed_string = original_string[::-1]\\nprint(reversed_string)  # Output will be \"menimE\"\\n```\\n\\nThat\\'s it. Quick and easy, just like dropping bars.' response_metadata={'token_usage': {'completion_tokens': 128, 'prompt_tokens': 27, 'total_tokens': 155}, 'model_name': 'gpt-4o', 'system_fingerprint': 'fp_319be4768e', 'finish_reason': 'stop', 'logprobs': None} id='run-446cb159-405a-4b97-bbe9-cc268fe29ead-0' usage_metadata={'input_tokens': 27, 'output_tokens': 128, 'total_tokens': 155}\n"
     ]
    }
   ],
   "execution_count": 40
  },
  {
   "metadata": {},
   "cell_type": "markdown",
   "source": [
    "`model.invoke` returns an instance of `AIMessage`\n",
    "with `StrOutputParser` we can convert it to string"
   ],
   "id": "67c78053f106a69a"
  },
  {
   "metadata": {
    "ExecuteTime": {
     "end_time": "2024-06-03T17:25:57.871840Z",
     "start_time": "2024-06-03T17:25:57.865990Z"
    }
   },
   "cell_type": "code",
   "source": [
    "from langchain_core.output_parsers import StrOutputParser\n",
    "\n",
    "parser = StrOutputParser()\n",
    "parser.invoke(response)"
   ],
   "id": "e83f6ecea978db09",
   "outputs": [
    {
     "data": {
      "text/plain": [
       "'Sure, reversing a string in Python is pretty simple. You can use slicing to achieve that. Here\\'s how you do it:\\n\\n```python\\noriginal_string = \"your_string_here\"\\nreversed_string = original_string[::-1]\\nprint(reversed_string)\\n```\\n\\nSo if you had, like, a string \"Eminem\", and you wanted to reverse it, it\\'d go something like this:\\n\\n```python\\noriginal_string = \"Eminem\"\\nreversed_string = original_string[::-1]\\nprint(reversed_string)  # Output will be \"menimE\"\\n```\\n\\nThat\\'s it. Quick and easy, just like dropping bars.'"
      ]
     },
     "execution_count": 41,
     "metadata": {},
     "output_type": "execute_result"
    }
   ],
   "execution_count": 41
  },
  {
   "metadata": {},
   "cell_type": "markdown",
   "source": "Or we can create a chain by using `|` operator",
   "id": "d05a810b3a41ce25"
  },
  {
   "metadata": {
    "ExecuteTime": {
     "end_time": "2024-06-03T17:25:57.876296Z",
     "start_time": "2024-06-03T17:25:57.873523Z"
    }
   },
   "cell_type": "code",
   "source": "chain = model | parser",
   "id": "fe27d9ed698f0254",
   "outputs": [],
   "execution_count": 42
  },
  {
   "metadata": {
    "ExecuteTime": {
     "end_time": "2024-06-03T17:26:00.313233Z",
     "start_time": "2024-06-03T17:25:57.878195Z"
    }
   },
   "cell_type": "code",
   "source": "chain.invoke(messages)",
   "id": "1bee8877417a0a47",
   "outputs": [
    {
     "data": {
      "text/plain": [
       "'Alright, so you wanna reverse a string in Python, huh? Here\\'s how you do it:\\n\\n```python\\nyour_string = \"reverse this\"\\nreversed_string = your_string[::-1]\\nprint(reversed_string)\\n```\\n\\nThat slice notation `[::-1]` is like flipping the script on the whole string, taking it from end to start. Easy as that.'"
      ]
     },
     "execution_count": 43,
     "metadata": {},
     "output_type": "execute_result"
    }
   ],
   "execution_count": 43
  },
  {
   "metadata": {},
   "cell_type": "markdown",
   "source": "We can create `messages` from a template",
   "id": "f46fdcc34604c761"
  },
  {
   "metadata": {
    "ExecuteTime": {
     "end_time": "2024-06-03T17:26:00.316523Z",
     "start_time": "2024-06-03T17:26:00.314039Z"
    }
   },
   "cell_type": "code",
   "source": [
    "from langchain_core.prompts import ChatPromptTemplate\n",
    "\n",
    "system_template = \"answer the questions as if you're {character}\"\n",
    "user_template = \"{text}\"\n",
    "\n",
    "prompt_template = ChatPromptTemplate.from_messages([\n",
    "    (\"system\", system_template), (\"user\", user_template)])"
   ],
   "id": "d2fa012a54c0a7f6",
   "outputs": [],
   "execution_count": 44
  },
  {
   "metadata": {},
   "cell_type": "markdown",
   "source": "Now we can use `prompt_template` to create prompts",
   "id": "d2124e8367bc95ad"
  },
  {
   "metadata": {
    "ExecuteTime": {
     "end_time": "2024-06-03T17:26:00.320115Z",
     "start_time": "2024-06-03T17:26:00.317277Z"
    }
   },
   "cell_type": "code",
   "source": [
    "prompt_value = prompt_template.invoke(\n",
    "    {\n",
    "        \"character\": \"Taylor Swift\",\n",
    "        \"text\": \"how to reverse a string in Python?\"\n",
    "    })\n",
    "prompt_value"
   ],
   "id": "87e8f1b5be354fb5",
   "outputs": [
    {
     "data": {
      "text/plain": [
       "ChatPromptValue(messages=[SystemMessage(content=\"answer the questions as if you're Taylor Swift\"), HumanMessage(content='how to reverse a string in Python?')])"
      ]
     },
     "execution_count": 45,
     "metadata": {},
     "output_type": "execute_result"
    }
   ],
   "execution_count": 45
  },
  {
   "metadata": {},
   "cell_type": "markdown",
   "source": "As you can see it's just a simple string substitution and list generation",
   "id": "e4e503ea122daf3c"
  },
  {
   "metadata": {
    "ExecuteTime": {
     "end_time": "2024-06-03T17:26:00.322693Z",
     "start_time": "2024-06-03T17:26:00.320805Z"
    }
   },
   "cell_type": "code",
   "source": "chain = prompt_template | model | parser",
   "id": "ea5ed6b27e83581b",
   "outputs": [],
   "execution_count": 46
  },
  {
   "metadata": {
    "ExecuteTime": {
     "end_time": "2024-06-03T17:26:02.777028Z",
     "start_time": "2024-06-03T17:26:00.323526Z"
    }
   },
   "cell_type": "code",
   "source": [
    "chain.invoke(\n",
    "    {\n",
    "        \"character\": \"Taylor Swift\",\n",
    "        \"text\": \"how to reverse a string in Python?\"\n",
    "    })"
   ],
   "id": "a2ce9789d1c4a5ee",
   "outputs": [
    {
     "data": {
      "text/plain": [
       "'Sure, I can help with that! Reversing a string in Python can be done in several ways, but one of the simplest is using slicing. Here’s a quick example:\\n\\n```python\\noriginal_string = \"Hello, World!\"\\nreversed_string = original_string[::-1]\\nprint(reversed_string)\\n```\\n\\nIn this example, `[::-1]` is a slice that tells Python to take the string and step backward by one, effectively reversing it. It’s a neat little trick! Hope that helps!'"
      ]
     },
     "execution_count": 47,
     "metadata": {},
     "output_type": "execute_result"
    }
   ],
   "execution_count": 47
  },
  {
   "metadata": {},
   "cell_type": "markdown",
   "source": [
    "See [langchain_with_langserve.py](./langchain_with_langserve.py) for a langchain-powered server\n",
    "\n",
    "You can run it with OPENAI_API_KEY=xxx python langchain_with_langserve.py\n",
    "You can play with you model on http://localhost:8000/chain/playground with UI.\n",
    "\n",
    "Or you can access it programmatically:"
   ],
   "id": "cd76cde2e0b6efb"
  },
  {
   "metadata": {
    "ExecuteTime": {
     "end_time": "2024-06-03T17:26:04.525995Z",
     "start_time": "2024-06-03T17:26:02.778634Z"
    }
   },
   "cell_type": "code",
   "source": [
    "from langserve import RemoteRunnable\n",
    "\n",
    "remote_chain = RemoteRunnable(\"http://localhost:8000/chain\")\n",
    "remote_chain.invoke({\"character\": \"Guido van Rossum\", \"text\": \"How to reverse string in Python?\"})"
   ],
   "id": "344cb5ff8473a13f",
   "outputs": [
    {
     "data": {
      "text/plain": [
       "'You can reverse a string in Python by using slicing. Here\\'s an example:\\n\\n```python\\noriginal_string = \"hello\"\\nreversed_string = original_string[::-1]\\nprint(reversed_string)\\n```\\n\\nThis will output: \"olleh\"'"
      ]
     },
     "execution_count": 48,
     "metadata": {},
     "output_type": "execute_result"
    }
   ],
   "execution_count": 48
  }
 ],
 "metadata": {
  "kernelspec": {
   "display_name": "Python 3",
   "language": "python",
   "name": "python3"
  },
  "language_info": {
   "codemirror_mode": {
    "name": "ipython",
    "version": 2
   },
   "file_extension": ".py",
   "mimetype": "text/x-python",
   "name": "python",
   "nbconvert_exporter": "python",
   "pygments_lexer": "ipython2",
   "version": "2.7.6"
  }
 },
 "nbformat": 4,
 "nbformat_minor": 5
}
